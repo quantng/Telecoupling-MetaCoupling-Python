{
 "cells": [
  {
   "cell_type": "code",
   "execution_count": 1,
   "metadata": {},
   "outputs": [
    {
     "name": "stdout",
     "output_type": "stream",
     "text": [
      "Testing hypothesis: Changes in international oil prices have a more pronounced impact on Ecuador's stock prices following major natural disasters.\n",
      "                            OLS Regression Results                            \n",
      "==============================================================================\n",
      "Dep. Variable:             Last Price   R-squared:                       0.666\n",
      "Model:                            OLS   Adj. R-squared:                  0.666\n",
      "Method:                 Least Squares   F-statistic:                 2.011e+06\n",
      "Date:                Sat, 20 Apr 2024   Prob (F-statistic):               0.00\n",
      "Time:                        22:14:05   Log-Likelihood:                -34166.\n",
      "No. Observations:             2017224   AIC:                         6.834e+04\n",
      "Df Residuals:                 2017221   BIC:                         6.838e+04\n",
      "Df Model:                           2                                         \n",
      "Covariance Type:            nonrobust                                         \n",
      "=================================================================================\n",
      "                    coef    std err          t      P>|t|      [0.025      0.975]\n",
      "---------------------------------------------------------------------------------\n",
      "const             2.0540      0.001   3323.048      0.000       2.053       2.055\n",
      "post_disaster    -0.6266      0.000  -1412.015      0.000      -0.627      -0.626\n",
      "oilprice          0.0043   7.67e-06    561.380      0.000       0.004       0.004\n",
      "==============================================================================\n",
      "Omnibus:                    14490.052   Durbin-Watson:                   0.000\n",
      "Prob(Omnibus):                  0.000   Jarque-Bera (JB):            12608.666\n",
      "Skew:                           0.142   Prob(JB):                         0.00\n",
      "Kurtosis:                       2.737   Cond. No.                         292.\n",
      "==============================================================================\n",
      "\n",
      "Notes:\n",
      "[1] Standard Errors assume that the covariance matrix of the errors is correctly specified.\n",
      "Hypothesis 1:\n",
      "Hypothesis: Changes in international oil prices have a more pronounced impact on Ecuador's stock prices following major natural disasters.\n",
      "Systems: Ecuador's stock market and its reaction to global oil prices and local disaster events.\n",
      "Flows: Financial capital influenced by international oil prices and local economic stability.\n",
      "Agents: Stock market investors, oil industry players, government regulators, economic policymakers.\n",
      "Causes: Global oil price dynamics combined with the effects of a local disaster.\n",
      "Effects: Alterations in stock prices, which may influence investment and economic policy.\n",
      "\n"
     ]
    }
   ],
   "source": [
    "import pandas as pd\n",
    "from telecouplingpackage import TelecouplingComponent, TelecouplingHypothesis, TelecouplingFramework\n",
    "\n",
    "# Load your data\n",
    "file_path = 'sales_weather_stock.csv'  # Modify with the correct path to your file\n",
    "data = pd.read_csv(file_path)\n",
    "\n",
    "# Convert 'date' to datetime type\n",
    "data['date'] = pd.to_datetime(data['date'])\n",
    "\n",
    "# Define the date of the earthquake\n",
    "earthquake_date = pd.Timestamp('2016-04-16')\n",
    "\n",
    "# Prepare the Data\n",
    "data['post_disaster'] = (data['date'] > '2016-04-16').astype(int)  # Assuming 2016 earthquake date\n",
    "\n",
    "# Create Telecoupling Components\n",
    "h2_systems = TelecouplingComponent(\"Ecuador's stock market and its reaction to global oil prices and local disaster events.\")\n",
    "h2_flows = TelecouplingComponent(\"Financial capital influenced by international oil prices and local economic stability.\")\n",
    "h2_agents = TelecouplingComponent(\"Stock market investors, oil industry players, government regulators, economic policymakers.\")\n",
    "h2_causes = TelecouplingComponent(\"Global oil price dynamics combined with the effects of a local disaster.\")\n",
    "h2_effects = TelecouplingComponent(\"Alterations in stock prices, which may influence investment and economic policy.\")\n",
    "\n",
    "# Create the Telecoupling Hypothesis\n",
    "h2 = TelecouplingHypothesis(\n",
    "    \"Changes in international oil prices have a more pronounced impact on Ecuador's stock prices following major natural disasters.\",\n",
    "    h2_systems, h2_flows, h2_agents, h2_causes, h2_effects\n",
    ")\n",
    "\n",
    "# Create Telecoupling Framework and Add Hypothesis\n",
    "framework = TelecouplingFramework()\n",
    "framework.add_hypothesis(h2)\n",
    "\n",
    "# Test the Hypothesis\n",
    "framework.test_hypotheses(data)\n",
    "\n",
    "# Display the Hypotheses\n",
    "framework.display_hypotheses()"
   ]
  }
 ],
 "metadata": {
  "kernelspec": {
   "display_name": "Python 3",
   "language": "python",
   "name": "python3"
  },
  "language_info": {
   "codemirror_mode": {
    "name": "ipython",
    "version": 3
   },
   "file_extension": ".py",
   "mimetype": "text/x-python",
   "name": "python",
   "nbconvert_exporter": "python",
   "pygments_lexer": "ipython3",
   "version": "3.12.0"
  }
 },
 "nbformat": 4,
 "nbformat_minor": 2
}
